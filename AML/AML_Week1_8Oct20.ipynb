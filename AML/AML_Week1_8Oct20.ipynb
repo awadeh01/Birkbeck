{
  "nbformat": 4,
  "nbformat_minor": 0,
  "metadata": {
    "colab": {
      "name": "AML_Week1_8Oct20.ipynb",
      "provenance": [],
      "authorship_tag": "ABX9TyMVENG86huO4AYaHNXhVFpz",
      "include_colab_link": true
    },
    "kernelspec": {
      "name": "python3",
      "display_name": "Python 3"
    }
  },
  "cells": [
    {
      "cell_type": "markdown",
      "metadata": {
        "id": "view-in-github",
        "colab_type": "text"
      },
      "source": [
        "<a href=\"https://colab.research.google.com/github/awadeh01/Birkbeck/blob/main/AML_Week1_8Oct20.ipynb\" target=\"_parent\"><img src=\"https://colab.research.google.com/assets/colab-badge.svg\" alt=\"Open In Colab\"/></a>"
      ]
    },
    {
      "cell_type": "code",
      "metadata": {
        "id": "KZCNq2eMiIZy",
        "outputId": "7918dbf3-8f5f-4a59-a3a1-5541742339b2",
        "colab": {
          "base_uri": "https://localhost:8080/",
          "height": 34
        }
      },
      "source": [
        "import csv\n",
        "import numpy as np\n",
        "file_name = 'pima-indians-diabetes.data.csv'\n",
        "raw_data = open(file_name, 'rt')\n",
        "reader = csv.reader(raw_data, delimiter=',', quoting=csv.QUOTE_NONE)\n",
        "x = list(reader)\n",
        "data = np.array(x).astype('float')\n",
        "print(data.shape)"
      ],
      "execution_count": 2,
      "outputs": [
        {
          "output_type": "stream",
          "text": [
            "(768, 9)\n"
          ],
          "name": "stdout"
        }
      ]
    },
    {
      "cell_type": "code",
      "metadata": {
        "id": "racEusyzm7nx",
        "outputId": "3c7fb565-01e7-44b5-8979-6552545ec028",
        "colab": {
          "base_uri": "https://localhost:8080/",
          "height": 208
        }
      },
      "source": [
        "# Statistical Summary\n",
        "from pandas import read_csv\n",
        "from pandas import set_option\n",
        "filename = \"pima-indians-diabetes.data.csv\"\n",
        "names = ['preg', 'plas', 'pres', 'skin', 'test', 'mass', 'pedi', 'age', 'class']\n",
        "data = read_csv(filename, names=names)\n",
        "set_option('display.width', 100)\n",
        "set_option('precision', 3)\n",
        "description = data.describe()\n",
        "print(description)"
      ],
      "execution_count": 9,
      "outputs": [
        {
          "output_type": "stream",
          "text": [
            "          preg     plas     pres     skin  ...     mass     pedi      age    class\n",
            "count  768.000  768.000  768.000  768.000  ...  768.000  768.000  768.000  768.000\n",
            "mean     3.845  120.895   69.105   20.536  ...   31.993    0.472   33.241    0.349\n",
            "std      3.370   31.973   19.356   15.952  ...    7.884    0.331   11.760    0.477\n",
            "min      0.000    0.000    0.000    0.000  ...    0.000    0.078   21.000    0.000\n",
            "25%      1.000   99.000   62.000    0.000  ...   27.300    0.244   24.000    0.000\n",
            "50%      3.000  117.000   72.000   23.000  ...   32.000    0.372   29.000    0.000\n",
            "75%      6.000  140.250   80.000   32.000  ...   36.600    0.626   41.000    1.000\n",
            "max     17.000  199.000  122.000   99.000  ...   67.100    2.420   81.000    1.000\n",
            "\n",
            "[8 rows x 9 columns]\n"
          ],
          "name": "stdout"
        }
      ]
    },
    {
      "cell_type": "code",
      "metadata": {
        "id": "gU9CaXdRobFJ",
        "outputId": "519486a4-38c3-45b6-a27e-2ce00de5281c",
        "colab": {
          "base_uri": "https://localhost:8080/",
          "height": 86
        }
      },
      "source": [
        "from pandas import read_csv\n",
        "file_name = 'pima-indians-diabetes.data.csv'\n",
        "names = ['preg', 'plas', 'pres', 'skin', 'test', 'mass', 'pedi', 'age', 'class']\n",
        "data = read_csv(file_name, names=names)\n",
        "class_counts = data.groupby('class').size()\n",
        "print(class_counts)"
      ],
      "execution_count": 10,
      "outputs": [
        {
          "output_type": "stream",
          "text": [
            "class\n",
            "0    500\n",
            "1    268\n",
            "dtype: int64\n"
          ],
          "name": "stdout"
        }
      ]
    },
    {
      "cell_type": "code",
      "metadata": {
        "id": "Hv_qg7GXpBn8",
        "outputId": "3ba37273-1bd1-4d72-f7fa-2411af7109b2",
        "colab": {
          "base_uri": "https://localhost:8080/",
          "height": 364
        }
      },
      "source": [
        "from pandas import read_csv\n",
        "from pandas import set_option\n",
        "filename = 'pima-indians-diabetes.data.csv'\n",
        "names = ['preg', 'plas', 'pres', 'skin', 'test', 'mass', 'pedi', 'age', 'class']\n",
        "data = read_csv(filename, names=names)\n",
        "set_option('display.width', 100)\n",
        "set_option('precision', 3)\n",
        "corrs = data.corr(method='pearson')\n",
        "print(corrs)\n",
        "skew = data.skew()\n",
        "print(skew)"
      ],
      "execution_count": 14,
      "outputs": [
        {
          "output_type": "stream",
          "text": [
            "        preg   plas   pres   skin   test   mass   pedi    age  class\n",
            "preg   1.000  0.129  0.141 -0.082 -0.074  0.018 -0.034  0.544  0.222\n",
            "plas   0.129  1.000  0.153  0.057  0.331  0.221  0.137  0.264  0.467\n",
            "pres   0.141  0.153  1.000  0.207  0.089  0.282  0.041  0.240  0.065\n",
            "skin  -0.082  0.057  0.207  1.000  0.437  0.393  0.184 -0.114  0.075\n",
            "test  -0.074  0.331  0.089  0.437  1.000  0.198  0.185 -0.042  0.131\n",
            "mass   0.018  0.221  0.282  0.393  0.198  1.000  0.141  0.036  0.293\n",
            "pedi  -0.034  0.137  0.041  0.184  0.185  0.141  1.000  0.034  0.174\n",
            "age    0.544  0.264  0.240 -0.114 -0.042  0.036  0.034  1.000  0.238\n",
            "class  0.222  0.467  0.065  0.075  0.131  0.293  0.174  0.238  1.000\n",
            "preg     0.902\n",
            "plas     0.174\n",
            "pres    -1.844\n",
            "skin     0.109\n",
            "test     2.272\n",
            "mass    -0.429\n",
            "pedi     1.920\n",
            "age      1.130\n",
            "class    0.635\n",
            "dtype: float64\n"
          ],
          "name": "stdout"
        }
      ]
    },
    {
      "cell_type": "code",
      "metadata": {
        "id": "aSTmqbX6vpnK"
      },
      "source": [
        "from google.colab import drive\n",
        "drive.mount('/content/drive')"
      ],
      "execution_count": null,
      "outputs": []
    }
  ]
}
